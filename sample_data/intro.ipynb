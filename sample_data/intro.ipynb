{
 "cells": [
  {
   "cell_type": "markdown",
   "metadata": {},
   "source": [
    "## Setting up your parser\n",
    "\n",
    "First thing you need to know is the width of each column in your file.\n",
    "There's no magic here. You need to find out.\n",
    "\n",
    "Lets take [this file](https://raw.githubusercontent.com/nano-labs/pyfwf3/master/sample_data/humans.txt) \n",
    "as an example. The first line looks like:\n",
    "\n",
    "```\n",
    "  123456789-123456789-123456789-123456789-123456789-123456789-123456789-123\n",
    "  --------- --------- --------- --------- --------- --------- --------- ---\n",
    "  US       AR19570526Fbe56008be36eDianne Mcintosh         Whatever    Medic\n",
    "```\n",
    "\n",
    "- 9 bytes: location\n",
    "- 2 bytes: state\n",
    "- 8 bytes: birthdate\n",
    "- 1 byte: gender\n",
    "- 12 bytes: don't know\n",
    "- 24 bytes: name\n",
    "- \\.\\. and so on\n",
    "\n",
    "To start with, we only use `name`, `birthday` and `gender`.\n"
   ]
  },
  {
   "cell_type": "code",
   "execution_count": 1,
   "metadata": {},
   "outputs": [],
   "source": [
    "from fwf_db import fwf_open, op\n",
    "\n",
    "class HumanFileSpec:\n",
    "    FIELDSPECS = [\n",
    "        {\"name\": \"birthday\", \"slice\": (11, 19)},\n",
    "        {\"name\": \"gender\"  , \"slice\": (19, 20)},\n",
    "        {\"name\": \"name\"    , \"slice\": (32, 56)},\n",
    "    ]\n",
    "\n",
    "data = fwf_open(HumanFileSpec, \"./humans.txt\")"
   ]
  },
  {
   "cell_type": "markdown",
   "metadata": {},
   "source": [
    "\n",
    "The slices represent the first and last positions of each information within the line. Alternatively you may provide combinations of `start`, `len` and `stop`.\n",
    "\n",
    "The sequence of fields is relevant for exporting and (pretty) printing the dataset."
   ]
  },
  {
   "cell_type": "markdown",
   "metadata": {},
   "source": [
    "## Views\n",
    "\n",
    "`data`, in the example above, makes all records and fields from the file available,\n",
    "and is accessible almost like a standard python list. You may consider it the\n",
    "root-view, as it doesn't have another parent view.\n",
    "\n",
    "Slices, filters, etc. create views on top of their parent views.\n",
    "Views are very light-weight and do not copy any data from the file.\n",
    "They basically only maintain indexes into their parent view.\n",
    "\n",
    "Views inherit the header (fields) from their parent, but maintain their\n",
    "own copy. It can be modified without affecting the parents header."
   ]
  },
  {
   "cell_type": "code",
   "execution_count": 2,
   "metadata": {},
   "outputs": [
    {
     "name": "stdout",
     "output_type": "stream",
     "text": [
      "+----------+--------+--------------------------+\n",
      "| birthday | gender |           name           |\n",
      "+----------+--------+--------------------------+\n",
      "| 19570526 |   F    | Dianne Mcintosh          |\n",
      "| 19940213 |   M    | Rosalyn Clark            |\n",
      "| 19510403 |   M    | Shirley Gray             |\n",
      "| 20110508 |   F    | Georgia Frank            |\n",
      "| 19930404 |   M    | Virginia Lambert         |\n",
      "+----------+--------+--------------------------+\n",
      "  len: 5/5\n"
     ]
    }
   ],
   "source": [
    "# slices provide a view (subset) on the full data set\n",
    "data[0:5].print(pretty=True)"
   ]
  },
  {
   "cell_type": "code",
   "execution_count": 3,
   "metadata": {},
   "outputs": [
    {
     "name": "stdout",
     "output_type": "stream",
     "text": [
      "FWFRegion(count=5):\n",
      "[('birthday', 'gender', 'name'),\n",
      "  (b'19570526', b'F', b'Dianne Mcintosh         '),\n",
      "  (b'19940213', b'M', b'Rosalyn Clark           '),\n",
      "  (b'19510403', b'M', b'Shirley Gray            '),\n",
      "  (b'20110508', b'F', b'Georgia Frank           '),\n",
      "  (b'19930404', b'M', b'Virginia Lambert        ')\n",
      "]\n",
      "\n"
     ]
    }
   ],
   "source": [
    "# The raw data look like this\n",
    "data[0:5].print(pretty=False)"
   ]
  },
  {
   "cell_type": "code",
   "execution_count": 4,
   "metadata": {},
   "outputs": [
    {
     "name": "stdout",
     "output_type": "stream",
     "text": [
      "+--------------------------+----------+--------+\n",
      "|           name           | birthday | gender |\n",
      "+--------------------------+----------+--------+\n",
      "| Dianne Mcintosh          | 19570526 |   F    |\n",
      "| Rosalyn Clark            | 19940213 |   M    |\n",
      "| Shirley Gray             | 19510403 |   M    |\n",
      "| Georgia Frank            | 20110508 |   F    |\n",
      "| Virginia Lambert         | 19930404 |   M    |\n",
      "+--------------------------+----------+--------+\n",
      "  len: 5/5\n"
     ]
    }
   ],
   "source": [
    "# You want to change the field order?\n",
    "data[0:5].print(\"name\", \"birthday\", \"gender\", pretty=True)  "
   ]
  },
  {
   "cell_type": "code",
   "execution_count": 5,
   "metadata": {},
   "outputs": [
    {
     "name": "stdout",
     "output_type": "stream",
     "text": [
      "+--------------------------+----------+--------+\n",
      "|           name           | birthday | gender |\n",
      "+--------------------------+----------+--------+\n",
      "| Dianne Mcintosh          | 19570526 |   F    |\n",
      "| Rosalyn Clark            | 19940213 |   M    |\n",
      "| Shirley Gray             | 19510403 |   M    |\n",
      "| Georgia Frank            | 20110508 |   F    |\n",
      "| Virginia Lambert         | 19930404 |   M    |\n",
      "+--------------------------+----------+--------+\n",
      "  len: 5/5\n"
     ]
    }
   ],
   "source": [
    "# May be you want to change it for the view?\n",
    "x = data[0:5].set_header(\"name\", \"birthday\", \"gender\")\n",
    "x.print(pretty=True)"
   ]
  },
  {
   "cell_type": "code",
   "execution_count": 6,
   "metadata": {},
   "outputs": [
    {
     "name": "stdout",
     "output_type": "stream",
     "text": [
      "+----------+--------+--------------------------+\n",
      "| birthday | gender |           name           |\n",
      "+----------+--------+--------------------------+\n",
      "| 19490106 |   M    | Jack Brown               |\n",
      "+----------+--------+--------------------------+\n",
      "b'Jack Brown              '\n",
      "b'19490106'\n",
      "b'M'\n",
      "(b'19490106', b'M', b'Jack Brown              ')\n",
      "[b'19490106', b'M', b'Jack Brown              ']\n"
     ]
    }
   ],
   "source": [
    "# Indivial lines can be requested as well\n",
    "data[327].print(pretty=True)\n",
    "\n",
    "print(data[327].name)\n",
    "print(data[327].birthday)\n",
    "print(data[327].gender)\n",
    "\n",
    "print(tuple(data[327]))\n",
    "print(list(data[327]))"
   ]
  },
  {
   "cell_type": "markdown",
   "metadata": {},
   "source": [
    "## Filter\n",
    "\n",
    "Any view can be filtered and returns a new view.\n",
    "Which again can be filtered and so on."
   ]
  },
  {
   "cell_type": "code",
   "execution_count": 7,
   "metadata": {},
   "outputs": [
    {
     "name": "stdout",
     "output_type": "stream",
     "text": [
      "+--------------------------+----------+--------+\n",
      "|           name           | birthday | gender |\n",
      "+--------------------------+----------+--------+\n",
      "| Dianne Mcintosh          | 19570526 |   F    |\n",
      "| Rosalyn Clark            | 19940213 |   M    |\n",
      "| Shirley Gray             | 19510403 |   M    |\n",
      "| Georgia Frank            | 20110508 |   F    |\n",
      "| Virginia Lambert         | 19930404 |   M    |\n",
      "+--------------------------+----------+--------+\n",
      "  len: 5/10,012\n"
     ]
    }
   ],
   "source": [
    "data = fwf_open(HumanFileSpec, \"./humans.txt\")\n",
    "\n",
    "# This is the original data from the file\n",
    "data.set_header(\"name\", \"birthday\", \"gender\").print(pretty=True, stop=5)"
   ]
  },
  {
   "cell_type": "code",
   "execution_count": 8,
   "metadata": {},
   "outputs": [
    {
     "name": "stdout",
     "output_type": "stream",
     "text": [
      "+--------------------------+----------+--------+\n",
      "|           name           | birthday | gender |\n",
      "+--------------------------+----------+--------+\n",
      "| Dianne Mcintosh          | 19570526 |   F    |\n",
      "| Georgia Frank            | 20110508 |   F    |\n",
      "+--------------------------+----------+--------+\n",
      "  len: 2/2\n"
     ]
    }
   ],
   "source": [
    "# Filtered by 'gender'\n",
    "data[:5].filter(op(\"gender\") == b\"F\").print(pretty=True)"
   ]
  },
  {
   "cell_type": "code",
   "execution_count": 9,
   "metadata": {},
   "outputs": [
    {
     "name": "stdout",
     "output_type": "stream",
     "text": [
      "+--------------------------+----------+--------+\n",
      "|           name           | birthday | gender |\n",
      "+--------------------------+----------+--------+\n",
      "| Rosalyn Clark            | 19940213 |   M    |\n",
      "| Shirley Gray             | 19510403 |   M    |\n",
      "| Georgia Frank            | 20110508 |   F    |\n",
      "| Virginia Lambert         | 19930404 |   M    |\n",
      "+--------------------------+----------+--------+\n",
      "  len: 4/4\n"
     ]
    }
   ],
   "source": [
    "# Combinations of filters (and/or support)\n",
    "data[:5].filter(op(\"gender\") == b\"M\", op(\"birthday\").bytes() >= b\"19900101\", is_or=True).print(pretty=True)"
   ]
  },
  {
   "cell_type": "code",
   "execution_count": 10,
   "metadata": {},
   "outputs": [
    {
     "name": "stdout",
     "output_type": "stream",
     "text": [
      "+--------------------------+----------+--------+\n",
      "|           name           | birthday | gender |\n",
      "+--------------------------+----------+--------+\n",
      "| Georgia Frank            | 20110508 |   F    |\n",
      "+--------------------------+----------+--------+\n",
      "  len: 1/1\n"
     ]
    }
   ],
   "source": [
    "# Chained filters\n",
    "data[:5].filter(op(\"name\").str().strip().endswith(\"k\")).filter(op(\"gender\")==b\"F\").print(pretty=True)"
   ]
  },
  {
   "cell_type": "code",
   "execution_count": 11,
   "metadata": {},
   "outputs": [
    {
     "name": "stdout",
     "output_type": "stream",
     "text": [
      "+--------------------------+----------+--------+\n",
      "|           name           | birthday | gender |\n",
      "+--------------------------+----------+--------+\n",
      "| Dianne Mcintosh          | 19570526 |   F    |\n",
      "+--------------------------+----------+--------+\n",
      "  len: 1/1\n"
     ]
    }
   ],
   "source": [
    "# Filters are function invoked for each record.\n",
    "data[:5].filter(lambda line: op(\"birthday\").str().date().get(line).year == 1957).print(pretty=True)"
   ]
  },
  {
   "cell_type": "code",
   "execution_count": 12,
   "metadata": {},
   "outputs": [
    {
     "name": "stdout",
     "output_type": "stream",
     "text": [
      "+--------------------------+----------+--------+\n",
      "|           name           | birthday | gender |\n",
      "+--------------------------+----------+--------+\n",
      "| Dianne Mcintosh          | 19570526 |   F    |\n",
      "+--------------------------+----------+--------+\n",
      "  len: 1/1\n"
     ]
    }
   ],
   "source": [
    "# Which could be rewritten as:\n",
    "data[:5].filter(op(\"birthday\").bytes().startswith(b\"1957\")).print(pretty=True)"
   ]
  },
  {
   "cell_type": "code",
   "execution_count": 13,
   "metadata": {},
   "outputs": [
    {
     "name": "stdout",
     "output_type": "stream",
     "text": [
      "+--------------------------+----------+--------+\n",
      "|           name           | birthday | gender |\n",
      "+--------------------------+----------+--------+\n",
      "| Dianne Mcintosh          | 19570526 |   F    |\n",
      "+--------------------------+----------+--------+\n",
      "  len: 1/1\n"
     ]
    }
   ],
   "source": [
    "# Or\n",
    "data[:5].filter(op(\"birthday\")[0:4] == b\"1957\").print(pretty=True)"
   ]
  },
  {
   "cell_type": "code",
   "execution_count": 14,
   "metadata": {},
   "outputs": [
    {
     "name": "stdout",
     "output_type": "stream",
     "text": [
      "FWFFileFieldSpecs(reclen=56, fields=[birthday=(11, 19), gender=(19, 20), name=(32, 56), birthday_year=(11, 15)])\n",
      "+--------------------------+----------+--------+---------------+\n",
      "|           name           | birthday | gender | birthday_year |\n",
      "+--------------------------+----------+--------+---------------+\n",
      "| Dianne Mcintosh          | 19570526 |   F    |      1957     |\n",
      "+--------------------------+----------+--------+---------------+\n",
      "  len: 1/1\n",
      "+--------------------------+----------+--------+\n",
      "|           name           | birthday | gender |\n",
      "+--------------------------+----------+--------+\n",
      "| Dianne Mcintosh          | 19570526 |   F    |\n",
      "| Rosalyn Clark            | 19940213 |   M    |\n",
      "| Shirley Gray             | 19510403 |   M    |\n",
      "| Georgia Frank            | 20110508 |   F    |\n",
      "| Virginia Lambert         | 19930404 |   M    |\n",
      "+--------------------------+----------+--------+\n",
      "  len: 5/5\n"
     ]
    }
   ],
   "source": [
    "# Or with an additional field added to the view\n",
    "x = data[:5]\n",
    "x.add_field(\"birthday_year\", start=11, len=4)   # !!!! TODO Not working !!!!\n",
    "print(x.fields)\n",
    "x.filter(op(\"birthday_year\") == b\"1957\").print(pretty=True)\n",
    "\n",
    "# data's view remains unmodified  (no 'birthday_year')\n",
    "data[:5].print(pretty=True)"
   ]
  },
  {
   "cell_type": "markdown",
   "metadata": {},
   "source": [
    "## Indices\n",
    "\n",
    "As mentioned previously the main use case for this library is\n",
    "  - (very) fast nosql-like access\n",
    "  - data-sets potentially larger then memory\n",
    "\n",
    "The 2nd point is covered my means of memory-mapping the file.\n",
    "The 1st one requires to support indexes, unique and none-unique ones."
   ]
  },
  {
   "cell_type": "markdown",
   "metadata": {},
   "source": [
    "### Unique Indices"
   ]
  },
  {
   "cell_type": "code",
   "execution_count": 15,
   "metadata": {},
   "outputs": [],
   "source": [
    "import fwf_db\n",
    "from fwf_db import fwf_open, op\n",
    "\n",
    "class CompleteHumanFileSpec:\n",
    "    FIELDSPECS = [\n",
    "            {\"name\": \"name\",       \"slice\": (32, 56)},\n",
    "            {\"name\": \"gender\",     \"slice\": (19, 20)},\n",
    "            {\"name\": \"birthday\",   \"slice\": (11, 19)},\n",
    "            {\"name\": \"location\",   \"slice\": ( 0,  9)},\n",
    "            {\"name\": \"state\",      \"slice\": ( 9, 11)},\n",
    "            {\"name\": \"universe\",   \"slice\": (56, 68)},\n",
    "            {\"name\": \"profession\", \"slice\": (68, 81)},\n",
    "        ]\n",
    "data = fwf_open(CompleteHumanFileSpec, \"./humans.txt\")"
   ]
  },
  {
   "cell_type": "code",
   "execution_count": 16,
   "metadata": {},
   "outputs": [
    {
     "name": "stdout",
     "output_type": "stream",
     "text": [
      "+-----------------------------+-------+-------------+\n",
      "|             name            | state |   birthday  |\n",
      "+-----------------------------+-------+-------------+\n",
      "| b'Paul Dash               ' | b'AR' | b'19710316' |\n",
      "| b'Alex Taylor             ' | b'MI' | b'19420108' |\n",
      "| b'Terry Shelton           ' | b'WI' | b'19900906' |\n",
      "| b'James Clark             ' | b'MD' | b'20090909' |\n",
      "| b'Margaret Radford        ' | b'PA' | b'20130316' |\n",
      "+-----------------------------+-------+-------------+\n",
      "  len: 5/51\n"
     ]
    }
   ],
   "source": [
    "# Create a unique index over column 'state'.\n",
    "index = fwf_db.FWFUniqueIndexDict(data)\n",
    "fwf_db.FWFCythonIndexBuilder(index).index(data, \"state\")\n",
    "index.print(\"name\", \"state\", \"birthday\", pretty=True, stop=5)"
   ]
  },
  {
   "cell_type": "code",
   "execution_count": 17,
   "metadata": {},
   "outputs": [
    {
     "name": "stdout",
     "output_type": "stream",
     "text": [
      "+--------------------------+--------+----------+-----------+-------+--------------+---------------+\n",
      "|           name           | gender | birthday |  location | state |   universe   |   profession  |\n",
      "+--------------------------+--------+----------+-----------+-------+--------------+---------------+\n",
      "| Paul Dash                |   F    | 19710316 | US        |   AR  | Whatever     | Student       |\n",
      "+--------------------------+--------+----------+-----------+-------+--------------+---------------+\n"
     ]
    }
   ],
   "source": [
    "# The index is dict-like, and the dict-value of a unique index is a \n",
    "# single line in the file. Only the index itself consumes memory.\n",
    "index[b\"AR\"].print(pretty=True)"
   ]
  },
  {
   "cell_type": "markdown",
   "metadata": {},
   "source": [
    "In case a value is not unique, the last one will be stored in the index.\n",
    "Which comes quite handy: consider a CDC use case (change data capture), where\n",
    "the file contains potentially several records with the same ID and you only\n",
    "need the last one. Or a multi-file scenario where in every month the first file\n",
    "is a full export, whereas the remaining daily ones are delta exports. In SQL and\n",
    "Pandas you need `group_by` operations, which are much more expensive (memory,\n",
    "time).\n",
    "\n",
    "The library does not support multi-level indexes. You may have recognized,\n",
    "that we avoid to eagerly load all lines, parse all values, and so on. Same\n",
    "for multi-level indexes. Because it is so fast to create an index, we rather\n",
    "create the 2nd-level index if and when needed on the relevant subset. We\n",
    "found it saves a lot of memory and has not shown up as performance bottleneck\n",
    "so far."
   ]
  },
  {
   "cell_type": "markdown",
   "metadata": {},
   "source": [
    "### Non-unique Indices"
   ]
  },
  {
   "cell_type": "code",
   "execution_count": 18,
   "metadata": {},
   "outputs": [
    {
     "name": "stdout",
     "output_type": "stream",
     "text": [
      "FWFIndexDict(count=51): [b'AR': len(195), b'MI': len(222), b'WI': len(191), b'MD': len(196), b'PA': len(237), b'VT': len(190), b'OK': len(195), b'NV': len(217), b'RI': len(195), b'ME': len(210) ...]\n",
      "\n"
     ]
    }
   ],
   "source": [
    "# Create a none-unique index over column 'state'. The difference compared\n",
    "# to the unique-index, is the dict-like object to maintain the index.\n",
    "index = fwf_db.FWFIndexDict(data)\n",
    "fwf_db.FWFCythonIndexBuilder(index).index(data, \"state\")\n",
    "index.print(pretty=True)"
   ]
  },
  {
   "cell_type": "code",
   "execution_count": 19,
   "metadata": {},
   "outputs": [
    {
     "name": "stdout",
     "output_type": "stream",
     "text": [
      "+--------------------------+--------+----------+-----------+-------+--------------+---------------+\n",
      "|           name           | gender | birthday |  location | state |   universe   |   profession  |\n",
      "+--------------------------+--------+----------+-----------+-------+--------------+---------------+\n",
      "| Dianne Mcintosh          |   F    | 19570526 | US        |   AR  | Whatever     | Medic         |\n",
      "| Karl Carney              |   M    | 19640508 | US        |   AR  | Whatever     | Shark tammer  |\n",
      "| Betsy Shipley            |   M    | 19950925 | US        |   AR  | Whatever     | Super hero    |\n",
      "| Elizabeth Lewis          |   F    | 20100330 | US        |   AR  | Whatever     | Time traveler |\n",
      "| Rosalyn Gamache          |   M    | 20030912 | US        |   AR  | Whatever     | Artist        |\n",
      "| Portia Mooneyham         |   M    | 19610606 | US        |   AR  | Whatever     |               |\n",
      "| Luther Christian         |   F    | 19791216 | US        |   AR  | Whatever     | Programmer    |\n",
      "| Travis Moore             |   F    | 19900615 | US        |   AR  | Whatever     |               |\n",
      "| Deborah Marcum           |   F    | 20030109 | US        |   AR  | Whatever     | Cookie maker  |\n",
      "| Myrna Chipman            |   F    | 19961028 | US        |   AR  | Whatever     | Artist        |\n",
      "+--------------------------+--------+----------+-----------+-------+--------------+---------------+\n",
      "  len: 10/195\n"
     ]
    }
   ],
   "source": [
    "# The dict-values are views. Exactly the ones we've seen in the previous\n",
    "# section. Only the index itself consumes memory.\n",
    "index[b\"AR\"].print(pretty=True)"
   ]
  },
  {
   "cell_type": "markdown",
   "metadata": {},
   "source": [
    "## Multi-File\n",
    "\n",
    "Events and streaming is the future, but we often receive files\n",
    "in regular time intervals. Every file might be considered a partition,\n",
    "and the sum of several of these files make up a dataset. All operations\n",
    "possible on a single file, should transparently be possible on Multi-files\n",
    "as well. Including redelivered files, and including file schema evolution."
   ]
  },
  {
   "cell_type": "code",
   "execution_count": 20,
   "metadata": {},
   "outputs": [
    {
     "name": "stdout",
     "output_type": "stream",
     "text": [
      "+---------+---------------------+\n",
      "| _lineno |        _file        |\n",
      "+---------+---------------------+\n",
      "|    8    | ./humans-subset.txt |\n",
      "|    9    | ./humans-subset.txt |\n",
      "|    0    |     ./humans.txt    |\n",
      "|    1    |     ./humans.txt    |\n",
      "+---------+---------------------+\n",
      "  len: 4/4\n"
     ]
    }
   ],
   "source": [
    "# Create a multi-file dataset, but passing all the file names to fwf_open()\n",
    "# In this example it is twice the same file, only for demonstration purposes.\n",
    "data = fwf_open(HumanFileSpec, \"./humans-subset.txt\", \"./humans.txt\")\n",
    "\n",
    "# We'll get to hidden and computed fields a little later\n",
    "data[8:12].print(\"_lineno\", \"_file\", pretty=True)"
   ]
  },
  {
   "cell_type": "markdown",
   "metadata": {},
   "source": [
    "Everything else remains the same: views, filters, indexes"
   ]
  },
  {
   "cell_type": "markdown",
   "metadata": {},
   "source": [
    "## More on Views\n",
    "\n",
    "This section shows more examples of what can be done with views."
   ]
  },
  {
   "cell_type": "markdown",
   "metadata": {},
   "source": [
    "### exclude(\\*\\*kwargs)"
   ]
  },
  {
   "cell_type": "code",
   "execution_count": 21,
   "metadata": {},
   "outputs": [
    {
     "name": "stdout",
     "output_type": "stream",
     "text": [
      "+--------------------------+----------+--------+\n",
      "|           name           | birthday | gender |\n",
      "+--------------------------+----------+--------+\n",
      "| Dianne Mcintosh          | 19570526 |   F    |\n",
      "| Rosalyn Clark            | 19940213 |   M    |\n",
      "| Shirley Gray             | 19510403 |   M    |\n",
      "| Georgia Frank            | 20110508 |   F    |\n",
      "| Virginia Lambert         | 19930404 |   M    |\n",
      "+--------------------------+----------+--------+\n",
      "  len: 5/5\n"
     ]
    }
   ],
   "source": [
    "# Pretty much the opposite of `.filter()`\n",
    "\n",
    "data = fwf_open(HumanFileSpec, \"./humans.txt\")\n",
    "data.set_header(\"name\", \"birthday\", \"gender\")\n",
    "data[:5].print(pretty=True)"
   ]
  },
  {
   "cell_type": "code",
   "execution_count": 22,
   "metadata": {},
   "outputs": [
    {
     "name": "stdout",
     "output_type": "stream",
     "text": [
      "+--------------------------+----------+--------+\n",
      "|           name           | birthday | gender |\n",
      "+--------------------------+----------+--------+\n",
      "| Rosalyn Clark            | 19940213 |   M    |\n",
      "| Shirley Gray             | 19510403 |   M    |\n",
      "| Virginia Lambert         | 19930404 |   M    |\n",
      "+--------------------------+----------+--------+\n",
      "  len: 3/3\n"
     ]
    }
   ],
   "source": [
    "data[:5].exclude(op(\"gender\")==b\"F\").print(pretty=True)"
   ]
  },
  {
   "cell_type": "markdown",
   "metadata": {},
   "source": [
    "### .order_by(field_name(s))"
   ]
  },
  {
   "cell_type": "code",
   "execution_count": 23,
   "metadata": {},
   "outputs": [
    {
     "name": "stdout",
     "output_type": "stream",
     "text": [
      "+--------------------------+----------+--------+\n",
      "|           name           | birthday | gender |\n",
      "+--------------------------+----------+--------+\n",
      "| Dianne Mcintosh          | 19570526 |   F    |\n",
      "| Rosalyn Clark            | 19940213 |   M    |\n",
      "| Shirley Gray             | 19510403 |   M    |\n",
      "| Georgia Frank            | 20110508 |   F    |\n",
      "| Virginia Lambert         | 19930404 |   M    |\n",
      "+--------------------------+----------+--------+\n",
      "  len: 5/5\n",
      "+--------------------------+----------+--------+\n",
      "|           name           | birthday | gender |\n",
      "+--------------------------+----------+--------+\n",
      "| Dianne Mcintosh          | 19570526 |   F    |\n",
      "| Georgia Frank            | 20110508 |   F    |\n",
      "| Rosalyn Clark            | 19940213 |   M    |\n",
      "| Shirley Gray             | 19510403 |   M    |\n",
      "| Virginia Lambert         | 19930404 |   M    |\n",
      "+--------------------------+----------+--------+\n",
      "  len: 5/5\n"
     ]
    }
   ],
   "source": [
    "# Create a new view with the field(s) being sorted. Default sorting\n",
    "# is ascending. For descending sorting prepend the field name with\n",
    "# '-', e.g. '-birthday'.\n",
    "\n",
    "data = fwf_open(HumanFileSpec, \"./humans.txt\")\n",
    "data.set_header(\"name\", \"birthday\", \"gender\")\n",
    "data[:5].print(pretty=True)\n",
    "\n",
    "data[:5].order_by(\"gender\").print(pretty=True)"
   ]
  },
  {
   "cell_type": "code",
   "execution_count": 24,
   "metadata": {},
   "outputs": [
    {
     "name": "stdout",
     "output_type": "stream",
     "text": [
      "+--------------------------+----------+--------+\n",
      "|           name           | birthday | gender |\n",
      "+--------------------------+----------+--------+\n",
      "| Georgia Frank            | 20110508 |   F    |\n",
      "| Dianne Mcintosh          | 19570526 |   F    |\n",
      "| Rosalyn Clark            | 19940213 |   M    |\n",
      "| Virginia Lambert         | 19930404 |   M    |\n",
      "| Shirley Gray             | 19510403 |   M    |\n",
      "+--------------------------+----------+--------+\n",
      "  len: 5/5\n"
     ]
    }
   ],
   "source": [
    "# Ascending and descending \n",
    "data[:5].order_by(\"gender\", \"-birthday\").print(pretty=True)"
   ]
  },
  {
   "cell_type": "markdown",
   "metadata": {},
   "source": [
    "### .unique(*fields)"
   ]
  },
  {
   "cell_type": "code",
   "execution_count": 25,
   "metadata": {},
   "outputs": [
    {
     "name": "stdout",
     "output_type": "stream",
     "text": [
      "[b'F', b'M']\n",
      "[b'             ', b'Artist       ', b'Berserk      ', b'Comedian     ', b'Cookie maker ']\n",
      "[b'  ', b'AK', b'AL', b'AR', b'AZ', b'CA', b'CO', b'CT', b'DE', b'FL']\n",
      "[(b'             ', b'AK'), (b'             ', b'AL'), (b'             ', b'AR'), (b'             ', b'AZ'), (b'             ', b'CA')]\n"
     ]
    }
   ],
   "source": [
    "# Return a list of unique values for that field.\n",
    "\n",
    "data = fwf_open(CompleteHumanFileSpec, \"./humans.txt\")\n",
    "\n",
    "print(sorted(data.unique(\"gender\")))\n",
    "\n",
    "print(sorted(data.unique(\"profession\"))[0:5])\n",
    "\n",
    "print(sorted(data.unique(\"state\"))[0:10])\n",
    "\n",
    "print(sorted(data.unique(\"profession\", \"state\"))[0:5])\n"
   ]
  },
  {
   "cell_type": "markdown",
   "metadata": {},
   "source": [
    "### count"
   ]
  },
  {
   "cell_type": "code",
   "execution_count": 26,
   "metadata": {},
   "outputs": [
    {
     "name": "stdout",
     "output_type": "stream",
     "text": [
      "10012\n",
      "5\n"
     ]
    }
   ],
   "source": [
    "# Return how many records are in a view: `len(data) == data.count()`\n",
    "\n",
    "data = fwf_open(HumanFileSpec, \"./humans.txt\")\n",
    "print(data.count())\n",
    "\n",
    "print(data[:5].count())"
   ]
  },
  {
   "cell_type": "markdown",
   "metadata": {},
   "source": [
    "## Computed fields\n",
    "\n",
    "By default the following fields are available in all views:\n",
    "\n",
    "- `_lineno`: The line number (record number) within the original file, excluding leading comments\n",
    "- `_file`: The file name, e.g. as in a multi-file scenario\n",
    "- `_line`: The unchanged and unparsed original line including newline\n",
    "\n",
    "For how to add your own computed fields, please see further down below."
   ]
  },
  {
   "cell_type": "code",
   "execution_count": 27,
   "metadata": {},
   "outputs": [
    {
     "name": "stdout",
     "output_type": "stream",
     "text": [
      "+---------+--------------------------+\n",
      "| _lineno |           name           |\n",
      "+---------+--------------------------+\n",
      "|    10   | Robert Carolina          |\n",
      "|    11   | Gladys Martin            |\n",
      "|    12   | Jason Stinebaugh         |\n",
      "|    13   | Kenneth Provines         |\n",
      "|    14   | James Mcgloster          |\n",
      "+---------+--------------------------+\n",
      "  len: 5/5\n"
     ]
    }
   ],
   "source": [
    "data = fwf_open(HumanFileSpec, \"./humans.txt\")\n",
    "data[10:15].print(\"_lineno\", \"name\")"
   ]
  },
  {
   "cell_type": "code",
   "execution_count": 28,
   "metadata": {},
   "outputs": [
    {
     "name": "stdout",
     "output_type": "stream",
     "text": [
      "+---------+----------+--------+--------------------------+\n",
      "| _lineno | birthday | gender |           name           |\n",
      "+---------+----------+--------+--------------------------+\n",
      "|    10   | 20090527 |   M    | Robert Carolina          |\n",
      "|    11   | 19990123 |   F    | Gladys Martin            |\n",
      "|    12   | 19610219 |   M    | Jason Stinebaugh         |\n",
      "|    13   | 19911219 |   F    | Kenneth Provines         |\n",
      "|    14   | 19741114 |   M    | James Mcgloster          |\n",
      "+---------+----------+--------+--------------------------+\n",
      "  len: 5/5\n"
     ]
    }
   ],
   "source": [
    "data[10:15].print(\"_lineno\", *data.header())"
   ]
  },
  {
   "cell_type": "code",
   "execution_count": 29,
   "metadata": {},
   "outputs": [
    {
     "name": "stdout",
     "output_type": "stream",
     "text": [
      "+---------+-------+\n",
      "| _lineno | _line |\n",
      "+---------+-------+\n",
      "    |10   |    US       AL20090527M771b0ad5b70fRobert Carolina         Whatever    Time traveler#\n",
      "|         |       |\n",
      "    |11   |    US       WY19990123Fad2d64883e15Gladys Martin           Whatever    Medic        #\n",
      "|         |       |\n",
      "    |12   |    US       FL19610219Ma701d784bc77Jason Stinebaugh        Whatever    Comedian     #\n",
      "|         |       |\n",
      "    |13   |    US       HI19911219Fe301c6ea97b9Kenneth Provines        Whatever    Super hero   #\n",
      "|         |       |\n",
      "    |14   |    US       AL19741114M4f56d046e3b5James Mcgloster         Whatever    Programmer   #\n",
      "|         |       |\n",
      "+---------+-------+\n",
      "  len: 5/5\n"
     ]
    }
   ],
   "source": [
    "# Note the trailing whitespaces and breakline on __line\n",
    "data[10:15].print(\"_lineno\", \"_line\", pretty=True)"
   ]
  },
  {
   "cell_type": "code",
   "execution_count": 30,
   "metadata": {},
   "outputs": [
    {
     "data": {
      "text/plain": [
       "[(10,\n",
       "  b'US       AL20090527M771b0ad5b70fRobert Carolina         Whatever    Time traveler#\\r\\n'),\n",
       " (11,\n",
       "  b'US       WY19990123Fad2d64883e15Gladys Martin           Whatever    Medic        #\\r\\n'),\n",
       " (12,\n",
       "  b'US       FL19610219Ma701d784bc77Jason Stinebaugh        Whatever    Comedian     #\\r\\n'),\n",
       " (13,\n",
       "  b'US       HI19911219Fe301c6ea97b9Kenneth Provines        Whatever    Super hero   #\\r\\n'),\n",
       " (14,\n",
       "  b'US       AL19741114M4f56d046e3b5James Mcgloster         Whatever    Programmer   #\\r\\n')]"
      ]
     },
     "execution_count": 30,
     "metadata": {},
     "output_type": "execute_result"
    }
   ],
   "source": [
    "list(data[10:15].to_list(\"_lineno\", \"_line\"))"
   ]
  },
  {
   "cell_type": "markdown",
   "metadata": {},
   "source": [
    "Additional computed fields:\n",
    "\n",
    "```\n",
    "class HumanFileSpec:\n",
    "    FIELDSPECS = [\n",
    "            {\"name\": \"name\",       \"slice\": (32, 56)},\n",
    "            {\"name\": \"gender\",     \"slice\": (19, 20)},\n",
    "            {\"name\": \"birthday\",   \"slice\": (11, 19)},\n",
    "        ]\n",
    "```\n",
    "\n",
    "The reason why a file specification is a class like the one above, is because\n",
    "methods can be added to it, e.g:"
   ]
  },
  {
   "cell_type": "code",
   "execution_count": 31,
   "metadata": {},
   "outputs": [],
   "source": [
    "from datetime import datetime\n",
    "from fwf_db import FWFLine\n",
    "\n",
    "class ExtendedHumanFileSpec:\n",
    "    FIELDSPECS = [\n",
    "            {\"name\": \"name\",       \"slice\": (32, 56)},\n",
    "            {\"name\": \"gender\",     \"slice\": (19, 20)},\n",
    "            {\"name\": \"birthday\",   \"slice\": (11, 19)},\n",
    "        ]\n",
    "\n",
    "    def __header__(self) -> list[str]:\n",
    "        # Define the default header\n",
    "        return [\"name\", \"gender\", \"birthday\", \"birthday_year\", \"age\"]\n",
    "\n",
    "    def birthday_year(self, line: FWFLine):\n",
    "        return int(line.birthday[0:4])\n",
    "\n",
    "    def age(self, line: FWFLine):\n",
    "        return datetime.today().year - self.birthday_year(line)\n",
    "\n",
    "    def __validate__(self, line: FWFLine) -> bool:\n",
    "        return True  # False => Error\n",
    "\n",
    "    def my_comment_filter(self, line: FWFLine) -> bool:\n",
    "        return line[0] != ord(\"#\")\n",
    "\n",
    "data = fwf_open(ExtendedHumanFileSpec, \"./humans.txt\")"
   ]
  },
  {
   "cell_type": "code",
   "execution_count": 32,
   "metadata": {},
   "outputs": [
    {
     "name": "stdout",
     "output_type": "stream",
     "text": [
      "+--------------------------+--------+----------+---------------+-----+\n",
      "|           name           | gender | birthday | birthday_year | age |\n",
      "+--------------------------+--------+----------+---------------+-----+\n",
      "| Dianne Mcintosh          |   F    | 19570526 |      1957     |  65 |\n",
      "| Rosalyn Clark            |   M    | 19940213 |      1994     |  28 |\n",
      "| Shirley Gray             |   M    | 19510403 |      1951     |  71 |\n",
      "| Georgia Frank            |   F    | 20110508 |      2011     |  11 |\n",
      "| Virginia Lambert         |   M    | 19930404 |      1993     |  29 |\n",
      "+--------------------------+--------+----------+---------------+-----+\n",
      "  len: 5/10,012\n"
     ]
    }
   ],
   "source": [
    "# Filter with a user defined method\n",
    "data.filter(data.filespec.my_comment_filter)\n",
    "data.filter(data.filespec.my_comment_filter).print(pretty=True, stop=5)"
   ]
  },
  {
   "cell_type": "code",
   "execution_count": 33,
   "metadata": {},
   "outputs": [
    {
     "name": "stdout",
     "output_type": "stream",
     "text": [
      "+--------------------------+--------+----------+---------------+-----+\n",
      "|           name           | gender | birthday | birthday_year | age |\n",
      "+--------------------------+--------+----------+---------------+-----+\n",
      "| Dianne Mcintosh          |   F    | 19570526 |      1957     |  65 |\n",
      "| Rosalyn Clark            |   M    | 19940213 |      1994     |  28 |\n",
      "| Shirley Gray             |   M    | 19510403 |      1951     |  71 |\n",
      "| Georgia Frank            |   F    | 20110508 |      2011     |  11 |\n",
      "| Virginia Lambert         |   M    | 19930404 |      1993     |  29 |\n",
      "+--------------------------+--------+----------+---------------+-----+\n",
      "  len: 5/5\n"
     ]
    }
   ],
   "source": [
    "# Print headers as defined in __headers__()\n",
    "# And including user-defined computed fields\n",
    "data[:5].print(pretty=True)"
   ]
  },
  {
   "cell_type": "code",
   "execution_count": 34,
   "metadata": {},
   "outputs": [
    {
     "name": "stdout",
     "output_type": "stream",
     "text": [
      "+---------+-------+\n",
      "| _lineno | _line |\n",
      "+---------+-------+\n",
      "    |0    |    US       AR19570526Fbe56008be36eDianne Mcintosh         Whatever    Medic        #\n",
      "|         |       |\n",
      "    |1    |    US       MI19940213M706a6e0afc3dRosalyn Clark           Whatever    Comedian     #\n",
      "|         |       |\n",
      "    |2    |    US       WI19510403M451ed630accbShirley Gray            Whatever    Comedian     #\n",
      "|         |       |\n",
      "    |3    |    US       MD20110508F7e5cd7324f38Georgia Frank           Whatever    Comedian     #\n",
      "|         |       |\n",
      "    |4    |    US       PA19930404Mecc7f17c16a6Virginia Lambert        Whatever    Shark tammer #\n",
      "|         |       |\n",
      "+---------+-------+\n",
      "  len: 5/10,012\n"
     ]
    }
   ],
   "source": [
    "# Test every line on your own criteria and list the errornous lines\n",
    "data.validate().print(\"_lineno\", \"_line\", pretty=True, stop=5)"
   ]
  },
  {
   "cell_type": "markdown",
   "metadata": {},
   "source": [
    "## More on \"debugging\" fwf files\n",
    "\n",
    "tbd."
   ]
  },
  {
   "cell_type": "markdown",
   "metadata": {},
   "source": [
    "## Development\n",
    "\n",
    "We are using a virtual env (`.venv`) for dependencies. And given the chosen\n",
    "file structure (`./src` directory; `./tests` directory without `__init__.py`), we do\n",
    "`pip install -e .` to install the project in '.' as a local package, with\n",
    "development enabled (-e).\n",
    "\n",
    "Test execution: `pytest -sx tests\\...`\n",
    "\n",
    "Build the cython exentions only: ./build_ext.bat\n"
   ]
  }
 ],
 "metadata": {
  "kernelspec": {
   "display_name": "Python 3.10.6 ('.venv': venv)",
   "language": "python",
   "name": "python3"
  },
  "language_info": {
   "codemirror_mode": {
    "name": "ipython",
    "version": 3
   },
   "file_extension": ".py",
   "mimetype": "text/x-python",
   "name": "python",
   "nbconvert_exporter": "python",
   "pygments_lexer": "ipython3",
   "version": "3.10.6"
  },
  "orig_nbformat": 4,
  "vscode": {
   "interpreter": {
    "hash": "7fa7f87b316d44326b771a1c74035e3a2450e8baa0147decd1a28548965de7bc"
   }
  }
 },
 "nbformat": 4,
 "nbformat_minor": 2
}
